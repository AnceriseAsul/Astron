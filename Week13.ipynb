{
  "nbformat": 4,
  "nbformat_minor": 0,
  "metadata": {
    "colab": {
      "provenance": [],
      "authorship_tag": "ABX9TyPoFVuTnZUe93/lPq7vSTWJ",
      "include_colab_link": true
    },
    "kernelspec": {
      "name": "python3",
      "display_name": "Python 3"
    },
    "language_info": {
      "name": "python"
    }
  },
  "cells": [
    {
      "cell_type": "markdown",
      "metadata": {
        "id": "view-in-github",
        "colab_type": "text"
      },
      "source": [
        "<a href=\"https://colab.research.google.com/github/AnceriseAsul/Astron/blob/main/Week13.ipynb\" target=\"_parent\"><img src=\"https://colab.research.google.com/assets/colab-badge.svg\" alt=\"Open In Colab\"/></a>"
      ]
    },
    {
      "cell_type": "markdown",
      "source": [
        "$\\delta = (\\frac{R_{planet}}{R_{star}})^2$, to solve for $R_{planet}$, $R_{planet} = \\sqrt\\delta \\times R_{star}$"
      ],
      "metadata": {
        "id": "MIDselcFF6Zr"
      }
    },
    {
      "cell_type": "code",
      "execution_count": 13,
      "metadata": {
        "id": "ZljemqvqCDiZ",
        "outputId": "08480731-823f-41ee-f83d-5fe62dbbdd4d",
        "colab": {
          "base_uri": "https://localhost:8080/"
        }
      },
      "outputs": [
        {
          "output_type": "stream",
          "name": "stdout",
          "text": [
            "8.40502e-05\n"
          ]
        }
      ],
      "source": [
        "import numpy as np\n",
        "import astropy.units as u\n",
        "import astropy.constants as c\n",
        "\n",
        "\n",
        "# Calculate the transit depth for Earth as a ratio of Earth radius to Solar radius squared\n",
        "delta_earth_sun = (u.earthRad / u.solRad)**2\n",
        "print(delta_earth_sun.decompose())"
      ]
    },
    {
      "cell_type": "code",
      "source": [
        "# Calculate the transit depth for Jupiter as a ratio of Jupiter radius to Solar radius squared.\n",
        "delta_jupiter_sun = (u.jupiterRad / u.solRad)**2\n",
        "print(delta_jupiter_sun.decompose())"
      ],
      "metadata": {
        "id": "-qecc97rCHsw",
        "colab": {
          "base_uri": "https://localhost:8080/"
        },
        "outputId": "dc3f0ba2-95b3-495a-d220-a39357949950"
      },
      "execution_count": 14,
      "outputs": [
        {
          "output_type": "stream",
          "name": "stdout",
          "text": [
            "0.0105602\n"
          ]
        }
      ]
    },
    {
      "cell_type": "markdown",
      "source": [
        "$v_{orb} = \\sqrt\\frac{GM}{a}$"
      ],
      "metadata": {
        "id": "WUscQGtfGBD-"
      }
    },
    {
      "cell_type": "code",
      "source": [
        "# Calculate Earth's orbital velocity around the Sun using Newtonian mechanics\n",
        "# Where G is the gravitational constant, M is the solar mass, and r is the average distance from Earth to the Sun (1 AU)\n",
        "v_orb_earth = np.sqrt(c.G * u.solMass / u.AU)\n",
        "print(v_orb_earth.to(u.m / u.s))"
      ],
      "metadata": {
        "colab": {
          "base_uri": "https://localhost:8080/"
        },
        "id": "lKAS1lUkFRa-",
        "outputId": "83bdecc2-2cb4-4d9a-ee8f-0a8f7568a0d3"
      },
      "execution_count": 15,
      "outputs": [
        {
          "output_type": "stream",
          "name": "stdout",
          "text": [
            "29784.691829676933 m / s\n"
          ]
        }
      ]
    },
    {
      "cell_type": "markdown",
      "source": [
        "Since $m_p\\cdot v_p = m_s\\cdot v_s$, $v_s = \\frac{m_p}{m_s} \\times v_p$"
      ],
      "metadata": {
        "id": "GU-NIn7YGFil"
      }
    },
    {
      "cell_type": "code",
      "source": [
        "# Calculate the velocity of the Sun's reflex motion due to Earth's orbit\n",
        "# Where m_earth and m_sun are the Earth's and Sun's masses, respectively\n",
        "v_sun = u.earthMass / u.solMass * v_orb_earth\n",
        "print(v_sun.to(u.m / u.s))"
      ],
      "metadata": {
        "colab": {
          "base_uri": "https://localhost:8080/"
        },
        "id": "LQ0W1eQpFVxG",
        "outputId": "52813daf-c9c9-4e9d-bfa3-1758f40d2a10"
      },
      "execution_count": 16,
      "outputs": [
        {
          "output_type": "stream",
          "name": "stdout",
          "text": [
            "0.08945800466923791 m / s\n"
          ]
        }
      ]
    },
    {
      "cell_type": "markdown",
      "source": [
        "$v_s = 0.09\\ m/s (\\frac{m_p}{m_\\oplus})(\\frac{P}{1 yr})^{-1/3}$"
      ],
      "metadata": {
        "id": "d958Z9rCGJQH"
      }
    },
    {
      "cell_type": "code",
      "source": [
        "# Estimate the Sun's reflex velocity due to Jupiter's orbit using an approximate formula\n",
        "# Where T is the orbital period in years. This reflects the contribution of Jupiter to the Sun's motion\n",
        "v_s_jupiter = 0.09 * u.m / u.s * (u.jupiterMass / u.earthMass) * (11.9 * u.yr / u.yr)**(-1.0/3.0)\n",
        "print(v_s_jupiter.to(u.m / u.s))"
      ],
      "metadata": {
        "colab": {
          "base_uri": "https://localhost:8080/"
        },
        "id": "DNEaPRXSFX1O",
        "outputId": "ce95c7ac-b35e-4811-c21f-d50d848f3f9b"
      },
      "execution_count": 17,
      "outputs": [
        {
          "output_type": "stream",
          "name": "stdout",
          "text": [
            "12.529091077198903 m / s\n"
          ]
        }
      ]
    },
    {
      "cell_type": "code",
      "source": [
        "# Print the ratio of Jupiter's mass to Earth's mass as a dimensionless quantity\n",
        "(u.jupiterMass / u.earthMass).decompose()"
      ],
      "metadata": {
        "colab": {
          "base_uri": "https://localhost:8080/",
          "height": 37
        },
        "id": "Et2x8CRxFbJu",
        "outputId": "7fe67529-ed40-446d-c496-02d3459a9365"
      },
      "execution_count": 18,
      "outputs": [
        {
          "output_type": "execute_result",
          "data": {
            "text/plain": [
              "Unit(dimensionless with a scale of 317.8284065946748)"
            ],
            "text/latex": "$\\mathrm{317.82841}$"
          },
          "metadata": {},
          "execution_count": 18
        }
      ]
    },
    {
      "cell_type": "code",
      "source": [
        "# Calculate the average density of the Earth\n",
        "rho_earth = u.earthMass / (4 * np.pi * u.earthRad**3 / 3.0)\n",
        "print(rho_earth.to(u.g / u.cm**3))"
      ],
      "metadata": {
        "colab": {
          "base_uri": "https://localhost:8080/"
        },
        "id": "rbVFB0raFdFt",
        "outputId": "ca3e0e0e-39dc-46b0-896b-d344e7d1d46b"
      },
      "execution_count": 19,
      "outputs": [
        {
          "output_type": "stream",
          "name": "stdout",
          "text": [
            "5.495021865555213 g / cm3\n"
          ]
        }
      ]
    },
    {
      "cell_type": "code",
      "source": [],
      "metadata": {
        "id": "csZH7JAiPFLn"
      },
      "execution_count": 19,
      "outputs": []
    }
  ]
}