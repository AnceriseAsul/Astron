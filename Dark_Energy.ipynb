{
  "nbformat": 4,
  "nbformat_minor": 0,
  "metadata": {
    "colab": {
      "provenance": [],
      "authorship_tag": "ABX9TyMRAtpvU0pU7hPXzPGEk2yH",
      "include_colab_link": true
    },
    "kernelspec": {
      "name": "python3",
      "display_name": "Python 3"
    },
    "language_info": {
      "name": "python"
    }
  },
  "cells": [
    {
      "cell_type": "markdown",
      "metadata": {
        "id": "view-in-github",
        "colab_type": "text"
      },
      "source": [
        "<a href=\"https://colab.research.google.com/github/AnceriseAsul/Astron/blob/main/Dark_Energy.ipynb\" target=\"_parent\"><img src=\"https://colab.research.google.com/assets/colab-badge.svg\" alt=\"Open In Colab\"/></a>"
      ]
    },
    {
      "cell_type": "markdown",
      "source": [
        "calculate the universe age base on hubble constant"
      ],
      "metadata": {
        "id": "lE4yE2qHQvIP"
      }
    },
    {
      "cell_type": "code",
      "source": [
        "import astropy.constants as const #package for physics constants\n",
        "import astropy.units as u #package forphysics units\n",
        "\n",
        "# Define Hubble constant (in km/s/Mpc)\n",
        "H0_km_s_Mpc = 70  # km/s/Mpc\n",
        "\n",
        "# Convert Hubble constant to 1/s\n",
        "H0_s = H0_km_s_Mpc * (u.km / u.s / u.Mpc)\n",
        "\n",
        "# Age of the Universe in seconds\n",
        "age_universe_seconds = 1 / H0_s\n",
        "\n",
        "# Convert age from seconds to years\n",
        "age_universe_years = age_universe_seconds.to(u.year)\n",
        "\n",
        "# Print the age of the Universe\n",
        "print(f\"The age of the Universe is approximately {age_universe_years.value:.2e} years.\")\n"
      ],
      "metadata": {
        "colab": {
          "base_uri": "https://localhost:8080/"
        },
        "id": "ZnPYRbFiQ2oO",
        "outputId": "8df710cc-02d1-4122-96ee-215a0d61dd53"
      },
      "execution_count": 28,
      "outputs": [
        {
          "output_type": "stream",
          "name": "stdout",
          "text": [
            "The age of the Universe is approximately 1.40e+10 years.\n"
          ]
        }
      ]
    },
    {
      "cell_type": "code",
      "source": [],
      "metadata": {
        "id": "jEmHRoRsRcqf"
      },
      "execution_count": null,
      "outputs": []
    }
  ]
}