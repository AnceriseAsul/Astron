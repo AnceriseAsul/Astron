{
  "nbformat": 4,
  "nbformat_minor": 0,
  "metadata": {
    "colab": {
      "provenance": [],
      "authorship_tag": "ABX9TyPswiugChQLeoT0qSHu11Sc",
      "include_colab_link": true
    },
    "kernelspec": {
      "name": "python3",
      "display_name": "Python 3"
    },
    "language_info": {
      "name": "python"
    }
  },
  "cells": [
    {
      "cell_type": "markdown",
      "metadata": {
        "id": "view-in-github",
        "colab_type": "text"
      },
      "source": [
        "<a href=\"https://colab.research.google.com/github/AnceriseAsul/Astron/blob/main/8_26_2024.ipynb\" target=\"_parent\"><img src=\"https://colab.research.google.com/assets/colab-badge.svg\" alt=\"Open In Colab\"/></a>"
      ]
    },
    {
      "cell_type": "markdown",
      "source": [
        "$V = \\sqrt\\frac{GM}{R}$"
      ],
      "metadata": {
        "id": "UgUHKvvl4e2b"
      }
    },
    {
      "cell_type": "code",
      "source": [
        "import astropy.constants as const #package for physics constants\n",
        "import astropy.units as u #package forphysics units"
      ],
      "metadata": {
        "id": "JV_MPbEM5r5i"
      },
      "execution_count": 1,
      "outputs": []
    },
    {
      "cell_type": "code",
      "source": [
        "#the mass of sun\n",
        "M = 1 * u.solMass\n",
        "print(M.to(u.kg))\n",
        "#the mass of earth\n",
        "M_earth = 1 * u.earthMass\n",
        "print(M_earth.to(u.kg))"
      ],
      "metadata": {
        "colab": {
          "base_uri": "https://localhost:8080/"
        },
        "id": "cMj6h-Wq5393",
        "outputId": "02a15abb-f479-46cb-c19f-29246563f2c7"
      },
      "execution_count": 2,
      "outputs": [
        {
          "output_type": "stream",
          "name": "stdout",
          "text": [
            "1.988409870698051e+30 kg\n",
            "5.972167867791379e+24 kg\n"
          ]
        }
      ]
    },
    {
      "cell_type": "code",
      "source": [
        "#radius of earth\n",
        "R_earth = 1 * u.earthRad\n",
        "print(R_earth.to(u.km))\n",
        "#radius of sun\n",
        "R = 1 * u.solRad\n",
        "print(R.to(u.km))"
      ],
      "metadata": {
        "colab": {
          "base_uri": "https://localhost:8080/"
        },
        "id": "dtVBQpSG7veB",
        "outputId": "8f333fc3-f680-459b-9cd6-bf7d52de9ce1"
      },
      "execution_count": 3,
      "outputs": [
        {
          "output_type": "stream",
          "name": "stdout",
          "text": [
            "6378.1 km\n",
            "695700.0 km\n"
          ]
        }
      ]
    },
    {
      "cell_type": "code",
      "source": [
        "#constant G value\n",
        "G = const.G\n",
        "print(G.si)"
      ],
      "metadata": {
        "colab": {
          "base_uri": "https://localhost:8080/"
        },
        "id": "eomJeUPW8tZz",
        "outputId": "49a0627c-0bb9-4a15-9a81-19d61a990186"
      },
      "execution_count": 4,
      "outputs": [
        {
          "output_type": "stream",
          "name": "stdout",
          "text": [
            "  Name   = Gravitational constant\n",
            "  Value  = 6.6743e-11\n",
            "  Uncertainty  = 1.5e-15\n",
            "  Unit  = m3 / (kg s2)\n",
            "  Reference = CODATA 2018\n"
          ]
        }
      ]
    },
    {
      "cell_type": "code",
      "source": [
        "import numpy as np"
      ],
      "metadata": {
        "id": "l0DUj2YJ-qYV"
      },
      "execution_count": 5,
      "outputs": []
    },
    {
      "cell_type": "code",
      "source": [
        "R_earth_distance = 1 * u.au"
      ],
      "metadata": {
        "id": "dEj5ojDnU12B"
      },
      "execution_count": 6,
      "outputs": []
    },
    {
      "cell_type": "code",
      "source": [
        "#earth orbital speed around sun\n",
        "V = np.sqrt(G * M / R_earth_distance)\n",
        "print(V.to(u.km / u.s))"
      ],
      "metadata": {
        "colab": {
          "base_uri": "https://localhost:8080/"
        },
        "id": "EboAj3ywMemh",
        "outputId": "15f25c91-cfed-4aed-c68c-bd9a4055c0c8"
      },
      "execution_count": 7,
      "outputs": [
        {
          "output_type": "stream",
          "name": "stdout",
          "text": [
            "29.784691829676934 km / s\n"
          ]
        }
      ]
    },
    {
      "cell_type": "code",
      "source": [
        "#calculate the Orbital Velocity\n",
        "def calculateOrbitalVelocity(Mass, Radius):\n",
        "  OrbitalVelocity = np.sqrt(G * Mass / Radius)\n",
        "  return OrbitalVelocity"
      ],
      "metadata": {
        "id": "j8NuDDnAN7rR"
      },
      "execution_count": 8,
      "outputs": []
    },
    {
      "cell_type": "code",
      "source": [
        "#use calculateOrbitalVelocity function to calculate the orbital satellite speed\n",
        "V_satellite = calculateOrbitalVelocity(M_earth, R_earth)\n",
        "print(V_satellite.to(u.km / u.s))"
      ],
      "metadata": {
        "colab": {
          "base_uri": "https://localhost:8080/"
        },
        "id": "fphc1BDpdgxA",
        "outputId": "257b36e1-d860-4e5e-81a9-44fef371813c"
      },
      "execution_count": 10,
      "outputs": [
        {
          "output_type": "stream",
          "name": "stdout",
          "text": [
            "7.905388234385281 km / s\n"
          ]
        }
      ]
    },
    {
      "cell_type": "markdown",
      "source": [
        "Now we are going to calculate all planet orbital velocity from Sun"
      ],
      "metadata": {
        "id": "XbdFq9qufXZi"
      }
    },
    {
      "cell_type": "code",
      "source": [
        "#the orbital radius of all planets in Solar system\n",
        "#Mercury, Venus, Earth, Mars, Jupiter, Saturn, Uranus, Neptune\n",
        "orbitalR_array = [0.4, 0.7, 1.0, 1.5, 5.2, 9.6, 19.2, 30.1]* u.au\n",
        "#Now calculate for all planets\n",
        "V_planet_arr = calculateOrbitalVelocity(M, orbitalR_array)\n",
        "print(V_planet_arr.to(u.km / u.s))"
      ],
      "metadata": {
        "colab": {
          "base_uri": "https://localhost:8080/"
        },
        "id": "nIp25x1HffGD",
        "outputId": "f5b061c7-68c6-49de-97f5-286103133741"
      },
      "execution_count": 11,
      "outputs": [
        {
          "output_type": "stream",
          "name": "stdout",
          "text": [
            "[47.09373279 35.5995158  29.78469183 24.31909904 13.06145141  9.61296795\n",
            "  6.79739483  5.42887526] km / s\n"
          ]
        }
      ]
    },
    {
      "cell_type": "code",
      "source": [
        "import matplotlib.pyplot as plt\n",
        "\n",
        "# Extract the numerical values for plotting\n",
        "orbitalR_array_km = orbitalR_array.value\n",
        "V_planet_arr_km_per_s = V_planet_arr.to(u.km / u.s).value\n",
        "\n",
        "# Create the plot\n",
        "plt.plot(orbitalR_array_km, V_planet_arr_km_per_s)\n",
        "plt.xlabel(\"Orbital Radius (AU)\")\n",
        "plt.ylabel(\"Orbital Velocity (km/s)\")\n",
        "plt.title(\"Orbital Velocity of Planets in Solar System\")\n",
        "plt.show()\n"
      ],
      "metadata": {
        "colab": {
          "base_uri": "https://localhost:8080/",
          "height": 472
        },
        "id": "-fSFegKqhW41",
        "outputId": "93f75c97-46e7-4482-b794-91d86898f9e3"
      },
      "execution_count": 12,
      "outputs": [
        {
          "output_type": "display_data",
          "data": {
            "text/plain": [
              "<Figure size 640x480 with 1 Axes>"
            ],
            "image/png": "[encoded data removed]"
          },
          "metadata": {}
        }
      ]
    },
    {
      "cell_type": "markdown",
      "source": [
        "Now calculate the schwarzschild radius of solar-mass blackhole.\n",
        "  And the equation is $R = \\frac{2GM}{c^2}$"
      ],
      "metadata": {
        "id": "1XOLgsrBFKM3"
      }
    },
    {
      "cell_type": "code",
      "source": [
        "#constant light speed C value\n",
        "C = const.c\n",
        "print(C.si)\n",
        "\n",
        "#calculate the Schwarzschild radius\n",
        "R_schwarzschild = 2 * G * M / C**2\n",
        "print(R_schwarzschild.to(u.km))"
      ],
      "metadata": {
        "colab": {
          "base_uri": "https://localhost:8080/"
        },
        "id": "H-_4hWfAFKjj",
        "outputId": "4c918c5f-dd6a-4aad-c1ae-c73a8f3ec2e3"
      },
      "execution_count": 26,
      "outputs": [
        {
          "output_type": "stream",
          "name": "stdout",
          "text": [
            "  Name   = Speed of light in vacuum\n",
            "  Value  = 299792458.0\n",
            "  Uncertainty  = 0.0\n",
            "  Unit  = m / s\n",
            "  Reference = CODATA 2018\n",
            "2.95325007610025 km\n"
          ]
        }
      ]
    },
    {
      "cell_type": "markdown",
      "source": [
        "So now we are working at the Milky way to see what the central black hole plot looks like"
      ],
      "metadata": {
        "id": "rVIz1EaPjLB8"
      }
    },
    {
      "cell_type": "code",
      "source": [
        "# Mass of central black hole\n",
        "Mass_black_hole = 4.297 * M * 1000000\n",
        "print(Mass_black_hole.to(u.kg))\n",
        "\n",
        "#unit\n",
        "import numpy as np\n",
        "\n",
        "# Create an array from 1 to 40\n",
        "radius_array = np.arange(1, 40)\n",
        "\n",
        "# Convert the array to kpc units\n",
        "radius_array_kpc = radius_array * u.kpc\n",
        "print(radius_array_kpc.to(u.km))\n",
        "\n",
        "#Now calculate for curve\n",
        "V_black_hole_arr = calculateOrbitalVelocity(Mass_black_hole, radius_array_kpc)\n",
        "print(V_black_hole_arr.to(u.km / u.s))\n"
      ],
      "metadata": {
        "colab": {
          "base_uri": "https://localhost:8080/"
        },
        "id": "lmLndAoKjhMW",
        "outputId": "846db5fa-64b0-4575-cd35-1be759b3c65c"
      },
      "execution_count": 27,
      "outputs": [
        {
          "output_type": "stream",
          "name": "stdout",
          "text": [
            "8.544197214389525e+36 kg\n",
            "[3.08567758e+16 6.17135516e+16 9.25703274e+16 1.23427103e+17\n",
            " 1.54283879e+17 1.85140655e+17 2.15997431e+17 2.46854207e+17\n",
            " 2.77710982e+17 3.08567758e+17 3.39424534e+17 3.70281310e+17\n",
            " 4.01138086e+17 4.31994861e+17 4.62851637e+17 4.93708413e+17\n",
            " 5.24565189e+17 5.55421965e+17 5.86278740e+17 6.17135516e+17\n",
            " 6.47992292e+17 6.78849068e+17 7.09705844e+17 7.40562620e+17\n",
            " 7.71419395e+17 8.02276171e+17 8.33132947e+17 8.63989723e+17\n",
            " 8.94846499e+17 9.25703274e+17 9.56560050e+17 9.87416826e+17\n",
            " 1.01827360e+18 1.04913038e+18 1.07998715e+18 1.11084393e+18\n",
            " 1.14170071e+18 1.17255748e+18 1.20341426e+18] km\n",
            "[4.29895819 3.03982249 2.48200467 2.14947909 1.92255255 1.75504233\n",
            " 1.62485347 1.51991124 1.43298606 1.35944994 1.29618466 1.24100233\n",
            " 1.19231648 1.1489449  1.10998623 1.07473955 1.04265051 1.01327416\n",
            " 0.98624865 0.96127627 0.93810959 0.91654097 0.89639475 0.87752117\n",
            " 0.85979164 0.84309507 0.82733489 0.81242673 0.79829649 0.78487879\n",
            " 0.77211568 0.75995562 0.74835256 0.73726525 0.72665656 0.71649303\n",
            " 0.70674437 0.69738311 0.68838424] km / s\n"
          ]
        }
      ]
    },
    {
      "cell_type": "code",
      "source": [
        "\n",
        "# Extract the numerical values for plotting\n",
        "radius_array_kpc_value = radius_array_kpc.value\n",
        "V_black_hole_arr_km_per_s = V_black_hole_arr.to(u.km / u.s).value\n",
        "\n",
        "# Create the plot\n",
        "plt.plot(radius_array_kpc_value, V_black_hole_arr_km_per_s)\n",
        "plt.xlabel(\"Radius (kpc)\")\n",
        "plt.ylabel(\"Orbital Velocity (km/s)\")\n",
        "plt.title(\"Orbital Velocity of Stars around Milky Way's Central Black Hole\")\n",
        "plt.show()\n"
      ],
      "metadata": {
        "colab": {
          "base_uri": "https://localhost:8080/",
          "height": 472
        },
        "id": "FBJO22i7nQZA",
        "outputId": "6a6d59be-0748-44d1-d09a-942c8ed00ff0"
      },
      "execution_count": 28,
      "outputs": [
        {
          "output_type": "display_data",
          "data": {
            "text/plain": [
              "<Figure size 640x480 with 1 Axes>"
            ],
            "image/png": "[encoded data removed]"
          },
          "metadata": {}
        }
      ]
    }
  ]
}